{
    "nbformat_minor": 1, 
    "cells": [
        {
            "source": "# Install required libs", 
            "cell_type": "markdown", 
            "metadata": {}
        }, 
        {
            "source": "from bs4 import BeautifulSoup\nimport pandas as pd\nimport urllib.request\n\n# import k-means from clustering stage\nfrom sklearn.cluster import KMeans\n\n!conda install -c conda-forge folium=0.5.0 --yes \nimport folium # map rendering library", 
            "cell_type": "code", 
            "metadata": {}, 
            "outputs": [
                {
                    "output_type": "stream", 
                    "name": "stdout", 
                    "text": "Solving environment: done\n\n## Package Plan ##\n\n  environment location: /opt/conda/envs/Python36\n\n  added / updated specs: \n    - folium=0.5.0\n\n\nThe following packages will be downloaded:\n\n    package                    |            build\n    ---------------------------|-----------------\n    folium-0.5.0               |             py_0          45 KB  conda-forge\n    openssl-1.1.1c             |       h516909a_0         2.1 MB  conda-forge\n    vincent-0.4.4              |             py_1          28 KB  conda-forge\n    ca-certificates-2019.6.16  |       hecc5488_0         145 KB  conda-forge\n    certifi-2019.6.16          |           py36_1         149 KB  conda-forge\n    branca-0.3.1               |             py_0          25 KB  conda-forge\n    altair-3.1.0               |           py36_0         724 KB  conda-forge\n    ------------------------------------------------------------\n                                           Total:         3.2 MB\n\nThe following NEW packages will be INSTALLED:\n\n    altair:          3.1.0-py36_0      conda-forge\n    branca:          0.3.1-py_0        conda-forge\n    folium:          0.5.0-py_0        conda-forge\n    vincent:         0.4.4-py_1        conda-forge\n\nThe following packages will be UPDATED:\n\n    ca-certificates: 2019.5.15-0                   --> 2019.6.16-hecc5488_0 conda-forge\n    certifi:         2019.6.16-py36_0              --> 2019.6.16-py36_1     conda-forge\n\nThe following packages will be DOWNGRADED:\n\n    openssl:         1.1.1c-h7b6447c_1             --> 1.1.1c-h516909a_0    conda-forge\n\n\nDownloading and Extracting Packages\nfolium-0.5.0         | 45 KB     | ##################################### | 100% \nopenssl-1.1.1c       | 2.1 MB    | ##################################### | 100% \nvincent-0.4.4        | 28 KB     | ##################################### | 100% \nca-certificates-2019 | 145 KB    | ##################################### | 100% \ncertifi-2019.6.16    | 149 KB    | ##################################### | 100% \nbranca-0.3.1         | 25 KB     | ##################################### | 100% \naltair-3.1.0         | 724 KB    | ##################################### | 100% \nPreparing transaction: done\nVerifying transaction: done\nExecuting transaction: done\n"
                }
            ], 
            "execution_count": 1
        }, 
        {
            "source": "# Get table from web", 
            "cell_type": "markdown", 
            "metadata": {}
        }, 
        {
            "source": "html = urllib.request.urlopen(\"https://en.wikipedia.org/wiki/List_of_postal_codes_of_Canada:_M\")\nsoup = BeautifulSoup(html.read(), \"html.parser\")\ntable = soup.find(\"table\")\noutput_rows = []\n\nfor table_row in table.findAll('tr'):\n    columns = table_row.findAll('td')\n    output_row = []\n    for column in columns:\n        output_row.append(column.text)\n    output_rows.append(output_row)\n\ndf = pd.DataFrame(output_rows)\n", 
            "cell_type": "code", 
            "metadata": {}, 
            "outputs": [], 
            "execution_count": 4
        }, 
        {
            "source": "# Requirement 1\n# The dataframe will consist of three columns: PostalCode, Borough, and Neighborhood", 
            "cell_type": "markdown", 
            "metadata": {}
        }, 
        {
            "source": "df.columns = ['PostalCode','Borough','Neighborhood']\ndf[\"Neighborhood\"] = df[\"Neighborhood\"].str.replace(\"\\n\", \"\")\nprint (df)\nprint (df.shape) #result 289 cols x 3 rows", 
            "cell_type": "code", 
            "metadata": {}, 
            "outputs": [
                {
                    "output_type": "stream", 
                    "name": "stdout", 
                    "text": "    PostalCode           Borough  \\\n0         None              None   \n1          M1A      Not assigned   \n2          M2A      Not assigned   \n3          M3A        North York   \n4          M4A        North York   \n5          M5A  Downtown Toronto   \n6          M5A  Downtown Toronto   \n7          M6A        North York   \n8          M6A        North York   \n9          M7A      Queen's Park   \n10         M8A      Not assigned   \n11         M9A         Etobicoke   \n12         M1B       Scarborough   \n13         M1B       Scarborough   \n14         M2B      Not assigned   \n15         M3B        North York   \n16         M4B         East York   \n17         M4B         East York   \n18         M5B  Downtown Toronto   \n19         M5B  Downtown Toronto   \n20         M6B        North York   \n21         M7B      Not assigned   \n22         M8B      Not assigned   \n23         M9B         Etobicoke   \n24         M9B         Etobicoke   \n25         M9B         Etobicoke   \n26         M9B         Etobicoke   \n27         M9B         Etobicoke   \n28         M1C       Scarborough   \n29         M1C       Scarborough   \n..         ...               ...   \n259        M9X      Not assigned   \n260        M1Y      Not assigned   \n261        M2Y      Not assigned   \n262        M3Y      Not assigned   \n263        M4Y  Downtown Toronto   \n264        M5Y      Not assigned   \n265        M6Y      Not assigned   \n266        M7Y      East Toronto   \n267        M8Y         Etobicoke   \n268        M8Y         Etobicoke   \n269        M8Y         Etobicoke   \n270        M8Y         Etobicoke   \n271        M8Y         Etobicoke   \n272        M8Y         Etobicoke   \n273        M8Y         Etobicoke   \n274        M8Y         Etobicoke   \n275        M9Y      Not assigned   \n276        M1Z      Not assigned   \n277        M2Z      Not assigned   \n278        M3Z      Not assigned   \n279        M4Z      Not assigned   \n280        M5Z      Not assigned   \n281        M6Z      Not assigned   \n282        M7Z      Not assigned   \n283        M8Z         Etobicoke   \n284        M8Z         Etobicoke   \n285        M8Z         Etobicoke   \n286        M8Z         Etobicoke   \n287        M8Z         Etobicoke   \n288        M9Z      Not assigned   \n\n                                          Neighborhood  \n0                                                 None  \n1                                         Not assigned  \n2                                         Not assigned  \n3                                            Parkwoods  \n4                                     Victoria Village  \n5                                         Harbourfront  \n6                                          Regent Park  \n7                                     Lawrence Heights  \n8                                       Lawrence Manor  \n9                                         Not assigned  \n10                                        Not assigned  \n11                                    Islington Avenue  \n12                                               Rouge  \n13                                             Malvern  \n14                                        Not assigned  \n15                                     Don Mills North  \n16                                    Woodbine Gardens  \n17                                       Parkview Hill  \n18                                             Ryerson  \n19                                     Garden District  \n20                                           Glencairn  \n21                                        Not assigned  \n22                                        Not assigned  \n23                                          Cloverdale  \n24                                           Islington  \n25                                        Martin Grove  \n26                                    Princess Gardens  \n27                                     West Deane Park  \n28                                      Highland Creek  \n29                                          Rouge Hill  \n..                                                 ...  \n259                                       Not assigned  \n260                                       Not assigned  \n261                                       Not assigned  \n262                                       Not assigned  \n263                               Church and Wellesley  \n264                                       Not assigned  \n265                                       Not assigned  \n266  Business Reply Mail Processing Centre 969 Eastern  \n267                                         Humber Bay  \n268                                   King's Mill Park  \n269                           Kingsway Park South East  \n270                                          Mimico NE  \n271                                     Old Mill South  \n272                                 The Queensway East  \n273                              Royal York South East  \n274                                           Sunnylea  \n275                                       Not assigned  \n276                                       Not assigned  \n277                                       Not assigned  \n278                                       Not assigned  \n279                                       Not assigned  \n280                                       Not assigned  \n281                                       Not assigned  \n282                                       Not assigned  \n283                           Kingsway Park South West  \n284                                          Mimico NW  \n285                                 The Queensway West  \n286                              Royal York South West  \n287                                     South of Bloor  \n288                                       Not assigned  \n\n[289 rows x 3 columns]\n(289, 3)\n"
                }
            ], 
            "execution_count": 7
        }, 
        {
            "source": "# Requirement 2\n# Only process the cells that have an assigned borough. Ignore cells with a borough that is Not assigned.", 
            "cell_type": "markdown", 
            "metadata": {}
        }, 
        {
            "source": "df = df[df.Borough != 'Not assigned']\nprint (df.shape) #result 212 cols x 3 rows\n#Excluded 77 columns", 
            "cell_type": "code", 
            "metadata": {}, 
            "outputs": [
                {
                    "output_type": "stream", 
                    "name": "stdout", 
                    "text": "(212, 3)\n"
                }
            ], 
            "execution_count": 9
        }, 
        {
            "source": "# Requirement 3\n# More than one neighborhood can exist in one postal code area.", 
            "cell_type": "markdown", 
            "metadata": {}
        }, 
        {
            "source": "#Assumption keep original dataframe\ndf2 = df \ndf2 = df2.groupby(['PostalCode','Borough'])['Neighborhood'].apply(', '.join).reset_index()\nprint (df2.shape)\nprint (df2['Neighborhood']) # combining post codes", 
            "cell_type": "code", 
            "metadata": {}, 
            "outputs": [
                {
                    "output_type": "stream", 
                    "name": "stdout", 
                    "text": "(103, 3)\n0                                         Rouge, Malvern\n1                 Highland Creek, Rouge Hill, Port Union\n2                      Guildwood, Morningside, West Hill\n3                                                 Woburn\n4                                              Cedarbrae\n5                                    Scarborough Village\n6            East Birchmount Park, Ionview, Kennedy Park\n7                        Clairlea, Golden Mile, Oakridge\n8        Cliffcrest, Cliffside, Scarborough Village West\n9                            Birch Cliff, Cliffside West\n10     Dorset Park, Scarborough Town Centre, Wexford ...\n11                                     Maryvale, Wexford\n12                                             Agincourt\n13               Clarks Corners, Sullivan, Tam O'Shanter\n14     Agincourt North, L'Amoreaux East, Milliken, St...\n15                                       L'Amoreaux West\n16                                           Upper Rouge\n17                                     Hillcrest Village\n18                          Fairview, Henry Farm, Oriole\n19                                       Bayview Village\n20                              Silver Hills, York Mills\n21                               Newtonbrook, Willowdale\n22                                      Willowdale South\n23                                       York Mills West\n24                                       Willowdale West\n25                                             Parkwoods\n26                                       Don Mills North\n27                      Flemingdon Park, Don Mills South\n28       Bathurst Manor, Downsview North, Wilson Heights\n29                       Northwood Park, York University\n                             ...                        \n73                                    Humewood-Cedarvale\n74                                   Caledonia-Fairbanks\n75                                              Christie\n76                          Dovercourt Village, Dufferin\n77                              Little Portugal, Trinity\n78          Brockton, Exhibition Place, Parkdale Village\n79                    Downsview, North Park, Upwood Park\n80        Del Ray, Keelesdale, Mount Dennis, Silverthorn\n81                         The Junction North, Runnymede\n82                         High Park, The Junction South\n83                                Parkdale, Roncesvalles\n84                                    Runnymede, Swansea\n85                                          Not assigned\n86                 Canada Post Gateway Processing Centre\n87     Business Reply Mail Processing Centre 969 Eastern\n88          Humber Bay Shores, Mimico South, New Toronto\n89                                Alderwood, Long Branch\n90         The Kingsway, Montgomery Road, Old Mill North\n91     Humber Bay, King's Mill Park, Kingsway Park So...\n92     Kingsway Park South West, Mimico NW, The Queen...\n93                                      Islington Avenue\n94     Cloverdale, Islington, Martin Grove, Princess ...\n95     Bloordale Gardens, Eringate, Markland Wood, Ol...\n96                                         Humber Summit\n97                                      Emery, Humberlea\n98                                                Weston\n99                                             Westmount\n100    Kingsview Village, Martin Grove Gardens, Richv...\n101    Albion Gardens, Beaumond Heights, Humbergate, ...\n102                                            Northwest\nName: Neighborhood, Length: 103, dtype: object\n"
                }
            ], 
            "execution_count": 16
        }, 
        {
            "source": "# Requirement 4\n# If a cell has a borough but a Not assigned neighborhood, then the neighborhood will be the same as the borough. ", 
            "cell_type": "markdown", 
            "metadata": {}
        }, 
        {
            "source": "df2 = df2[(df.Borough != 'Not assigned') & (df.Neighborhood == 'Not assigned')]\ndf2 = df2.replace(['Not assigned'], df.Borough)\nprint (df2.shape)\nprint (df2)\n\n#Replace original poor values\ndf2 = df2[df2.Neighborhood != 'Not assigned']\nresult = pd.concat([df2,df], keys='PostalCode')\nprint (result)\nprint(result.shape)\n\ndata = pd.read_csv('https://cocl.us/Geospatial_data/Geospatial_Coordinates.csv')\nprint(data)\ndf_merge_col = pd.merge(result, data, left_on='PostalCode', right_on='Postal Code')\n\nprint(df_merge_col)\n# set number of clusters\nkclusters = 5\n\n# run k-means clustering\nkmeans = KMeans(n_clusters=kclusters, random_state=0).fit(df_merg_col)\n\n# check cluster labels generated for each row in the dataframe\nkmeans.labels_[0:10] \n# create map\nmap_clusters = folium.Map(location=[latitude, longitude], zoom_start=11)\n\n# set color scheme for the clusters\nx = np.arange(kclusters)\nys = [i + x + (i*x)**2 for i in range(kclusters)]\ncolors_array = cm.rainbow(np.linspace(0, 1, len(ys)))\nrainbow = [colors.rgb2hex(i) for i in colors_array]\n\n# add markers to the map\nmarkers_colors = []\nfor lat, lon, poi, cluster in zip(df_merg_col['Latitude'], df_merg_col['Longitude'], df_merg_col['Neighborhood'], df_merg_col['Cluster Labels']):\n    label = folium.Popup(str(poi) + ' Cluster ' + str(cluster), parse_html=True)\n    folium.CircleMarker(\n        [lat, lon],\n        radius=5,\n        popup=label,\n        color=rainbow[cluster-1],\n        fill=True,\n        fill_color=rainbow[cluster-1],\n        fill_opacity=0.7).add_to(map_clusters)\n       \nmap_clusters", 
            "cell_type": "code", 
            "metadata": {}, 
            "outputs": [], 
            "execution_count": null
        }
    ], 
    "metadata": {
        "kernelspec": {
            "display_name": "Python 3.6", 
            "name": "python3", 
            "language": "python"
        }, 
        "language_info": {
            "mimetype": "text/x-python", 
            "nbconvert_exporter": "python", 
            "version": "3.6.8", 
            "name": "python", 
            "pygments_lexer": "ipython3", 
            "file_extension": ".py", 
            "codemirror_mode": {
                "version": 3, 
                "name": "ipython"
            }
        }
    }, 
    "nbformat": 4
}